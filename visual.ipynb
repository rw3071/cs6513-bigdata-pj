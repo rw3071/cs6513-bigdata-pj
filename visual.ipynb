{
 "cells": [
  {
   "cell_type": "code",
   "execution_count": 2,
   "metadata": {},
   "outputs": [],
   "source": [
    "import pandas as pd\n",
    "import numpy as np\n",
    "import matplotlib.pyplot as plt"
   ]
  },
  {
   "cell_type": "code",
   "execution_count": 32,
   "metadata": {},
   "outputs": [
    {
     "name": "stderr",
     "output_type": "stream",
     "text": [
      "/var/folders/q4/81_jcq3x5gq9_2rd2gd_kqy80000gn/T/ipykernel_3695/393855885.py:2: DtypeWarning: Columns (7) have mixed types. Specify dtype option on import or set low_memory=False.\n",
      "  df2016 = pd.read_csv('GRAD_RATE_AND_OUTCOMES_2016.csv')\n",
      "/var/folders/q4/81_jcq3x5gq9_2rd2gd_kqy80000gn/T/ipykernel_3695/393855885.py:5: DtypeWarning: Columns (5,7) have mixed types. Specify dtype option on import or set low_memory=False.\n",
      "  df2019 = pd.read_csv('GRAD_RATE_AND_OUTCOMES_2019.csv')\n",
      "/var/folders/q4/81_jcq3x5gq9_2rd2gd_kqy80000gn/T/ipykernel_3695/393855885.py:6: DtypeWarning: Columns (5,7) have mixed types. Specify dtype option on import or set low_memory=False.\n",
      "  df2020 = pd.read_csv('GRAD_RATE_AND_OUTCOMES_2020.csv')\n",
      "/var/folders/q4/81_jcq3x5gq9_2rd2gd_kqy80000gn/T/ipykernel_3695/393855885.py:7: DtypeWarning: Columns (6) have mixed types. Specify dtype option on import or set low_memory=False.\n",
      "  df2021 = pd.read_csv('GRAD_RATE_AND_OUTCOMES_2021.csv')\n",
      "/var/folders/q4/81_jcq3x5gq9_2rd2gd_kqy80000gn/T/ipykernel_3695/393855885.py:8: DtypeWarning: Columns (6) have mixed types. Specify dtype option on import or set low_memory=False.\n",
      "  df2022 = pd.read_csv('GRAD_RATE_AND_OUTCOMES_2022.csv')\n"
     ]
    }
   ],
   "source": [
    "df2015 = pd.read_csv('GRAD_RATE_AND_OUTCOMES_2015.csv')\n",
    "df2016 = pd.read_csv('GRAD_RATE_AND_OUTCOMES_2016.csv')\n",
    "df2017 = pd.read_csv('GRAD_RATE_AND_OUTCOMES_2017.csv')\n",
    "df2018 = pd.read_csv('GRAD_RATE_AND_OUTCOMES_2018.csv')\n",
    "df2019 = pd.read_csv('GRAD_RATE_AND_OUTCOMES_2019.csv')\n",
    "df2020 = pd.read_csv('GRAD_RATE_AND_OUTCOMES_2020.csv')\n",
    "df2021 = pd.read_csv('GRAD_RATE_AND_OUTCOMES_2021.csv')\n",
    "df2022 = pd.read_csv('GRAD_RATE_AND_OUTCOMES_2022.csv')\n",
    "df2015 = df2015.reset_index()\n",
    "df2015.columns = df2015.columns.str.lower()\n",
    "df2016 = df2016.reset_index()\n",
    "df2016.columns = df2016.columns.str.lower()\n",
    "df2017 = df2017.reset_index()\n",
    "df2017.columns = df2017.columns.str.lower()\n",
    "df2018 = df2018.reset_index()\n",
    "df2018.columns = df2018.columns.str.lower()\n",
    "df2019 = df2019.reset_index()\n",
    "df2019.columns = df2019.columns.str.lower()"
   ]
  },
  {
   "cell_type": "code",
   "execution_count": 4,
   "metadata": {},
   "outputs": [
    {
     "name": "stdout",
     "output_type": "stream",
     "text": [
      "['2014 Total Cohort - 6 Year Outcome' '2015 Total Cohort - 5 Year Outcome'\n",
      " '2016 Total Cohort - 4 Year Outcome'\n",
      " '2015 Total Cohort - 5 Year Outcome - August 2020'\n",
      " '2016 Total Cohort - 4 Year Outcome - August 2020'\n",
      " '2014 Total Cohort - 6 Year Outcome - August 2020']\n",
      "['2015 Total Cohort - 6 Year Outcome' '2016 Total Cohort - 5 Year Outcome'\n",
      " '2017 Total Cohort - 4 Year Outcome'\n",
      " '2016 Total Cohort - 5 Year Outcome - August 2021'\n",
      " '2017 Total Cohort - 4 Year Outcome - August 2021'\n",
      " '2015 Total Cohort - 6 Year Outcome - August 2021']\n",
      "['2016 Total Cohort - 6 Year Outcome' '2017 Total Cohort - 5 Year Outcome'\n",
      " '2018 Total Cohort - 4 Year Outcome'\n",
      " '2017 Total Cohort - 5 Year Outcome - August 2022'\n",
      " '2018 Total Cohort - 4 Year Outcome - August 2022'\n",
      " '2016 Total Cohort - 6 Year Outcome - August 2022']\n",
      "['All Students' 'Male' 'Female' 'General Education Students'\n",
      " 'Students with Disabilities' 'American Indian or Alaska Native'\n",
      " 'Asian or Native Hawaiian/Other Pacific Islander'\n",
      " 'Black or African American' 'Hispanic or Latino' 'White' 'Multiracial'\n",
      " 'Economically Disadvantaged' 'Not Economically Disadvantaged'\n",
      " 'English Language Learner' 'Non-English Language Learner'\n",
      " 'In Foster Care' 'Not in Foster Care' 'Homeless' 'Not Homeless' 'Migrant'\n",
      " 'Not Migrant' 'Parent in Armed Forces' 'Parent Not in Armed Forces'\n",
      " 'Nonbinary']\n"
     ]
    }
   ],
   "source": [
    "print(df2020[\"membership_desc\"].unique())\n",
    "print(df2021[\"membership_desc\"].unique())\n",
    "print(df2022[\"membership_desc\"].unique())\n",
    "# subgroup_name\n",
    "print(df2022[\"subgroup_name\"].unique())"
   ]
  },
  {
   "cell_type": "code",
   "execution_count": 72,
   "metadata": {},
   "outputs": [
    {
     "name": "stdout",
     "output_type": "stream",
     "text": [
      "for year 2015\n",
      "    enroll_cnt grad_cnt               subgroup_name grad_pct local_pct\n",
      "14       86929    66893  Economically Disadvantaged      77%        7%\n",
      "for year 2016\n",
      "   enroll_cnt grad_cnt               subgroup_name grad_pct local_pct\n",
      "13      90339    71614  Economically Disadvantaged      79%        8%\n",
      "for year 2017\n",
      "   enroll_cnt grad_cnt               subgroup_name grad_pct local_pct\n",
      "13      93492    75476  Economically Disadvantaged      81%        7%\n",
      "for year 2018\n",
      "   enroll_cnt grad_cnt               subgroup_name grad_pct local_pct\n",
      "14      97006    79103  Economically Disadvantaged      82%        8%\n",
      "for year 2019\n",
      "   enroll_cnt grad_cnt               subgroup_name grad_pct local_pct\n",
      "14     101127    82561  Economically Disadvantaged      82%        9%\n",
      "for year 2020\n",
      "    enroll_cnt grad_cnt               subgroup_name grad_pct local_pct\n",
      "14      107828    89154  Economically Disadvantaged      83%       10%\n",
      "for year 2021\n",
      "    enroll_cnt grad_cnt               subgroup_name grad_pct local_pct\n",
      "11      108248    90389  Economically Disadvantaged      84%        9%\n",
      "for year 2022\n",
      "    enroll_cnt grad_cnt               subgroup_name grad_pct local_pct\n",
      "11      109080    92171  Economically Disadvantaged      84%        4%\n",
      "    enroll_cnt grad_cnt                   subgroup_name grad_pct local_pct\n",
      "15      130729   113368  Not Economically Disadvantaged      87%        4%\n",
      "   enroll_cnt grad_cnt                   subgroup_name grad_pct local_pct\n",
      "14     121023   106030  Not Economically Disadvantaged      88%        5%\n",
      "   enroll_cnt grad_cnt                   subgroup_name grad_pct local_pct\n",
      "14     114529   101071  Not Economically Disadvantaged      88%        4%\n",
      "   enroll_cnt grad_cnt                   subgroup_name grad_pct local_pct\n",
      "15     110432    98871  Not Economically Disadvantaged      90%        4%\n",
      "   enroll_cnt grad_cnt                   subgroup_name grad_pct local_pct\n",
      "15     105359    95379  Not Economically Disadvantaged      91%        4%\n",
      "    enroll_cnt grad_cnt                   subgroup_name grad_pct local_pct\n",
      "15      102302    93248  Not Economically Disadvantaged      91%        4%\n",
      "    enroll_cnt grad_cnt                   subgroup_name grad_pct local_pct\n",
      "12       99148    91461  Not Economically Disadvantaged      92%        4%\n",
      "    enroll_cnt grad_cnt                   subgroup_name grad_pct local_pct\n",
      "12       98077    91283  Not Economically Disadvantaged      93%        2%\n"
     ]
    }
   ],
   "source": [
    "\n",
    "#dataset are divided \n",
    "\n",
    "#aggregation conditions:\n",
    "#[columnname]==\"\"\n",
    "#[aggregation_name]==\"All Districts and Charters\"\n",
    "\n",
    "\n",
    "#compare conditions:\n",
    "#[]\n",
    "\n",
    "#value field:\n",
    "#\n",
    "compare_conditions=[\"Economically Disadvantaged\",\"Not Economically Disadvantaged\"]\n",
    "target=[\"local_pct\"]\n",
    "value=[]\n",
    "years=[2015,2016,2017,2018,2019,2020,2021,2022]\n",
    "for i in years:\n",
    "    dfname=f\"df{i}\"\n",
    "    year=i-6\n",
    "    for condition in compare_conditions:\n",
    "        result= f'{dfname}[\\\n",
    "            ({dfname}[\"membership_desc\"]==\"{year} Total Cohort - 6 Year Outcome\")&\\\n",
    "            ({dfname}[\"subgroup_name\"]==\"{condition}\")&\\\n",
    "            ({dfname}[\"aggregation_name\"]==\"All Districts and Charters\")\\\n",
    "                ]'\n",
    "        print(f\"for year {i}\")\n",
    "        result=eval(result)\n",
    "        for t in target:\n",
    "            value.append(result[t])\n",
    "    print(result[[\"enroll_cnt\",\"grad_cnt\",'subgroup_name','grad_pct','local_pct']])\n",
    "\n",
    "\n",
    "n_grad_pct=[]\n",
    "n_local_pct=[]\n",
    "n_grad_cnt=[]\n",
    "years=[2015,2016,2017,2018,2019,2020,2021,2022]\n",
    "for i in years:\n",
    "    dfname=f\"df{i}\"\n",
    "    year=i-6\n",
    "    result= f'{dfname}[\\\n",
    "        ({dfname}[\"membership_desc\"]==\"{year} Total Cohort - 6 Year Outcome\")&\\\n",
    "        ({dfname}[\"subgroup_name\"]==\"Not Economically Disadvantaged\")&\\\n",
    "        ({dfname}[\"aggregation_name\"]==\"All Districts and Charters\")\\\n",
    "            ]'\n",
    "    result=eval(result)\n",
    "    n_grad_pct.append(result['grad_pct'].iloc[0])\n",
    "    n_local_pct.append(result['local_pct'].iloc[0])\n",
    "    n_grad_cnt.append(result['grad_cnt'].iloc[0])\n",
    "    print(result[[\"enroll_cnt\",\"grad_cnt\",'subgroup_name','grad_pct','local_pct']])\n",
    "\n",
    "\n",
    "\n",
    "\n",
    "# df2020male=df2020[(df2020[\"membership_desc\"]==\"2014 Total Cohort - 6 Year Outcome\")&(df2020[\"subgroup_name\"]==\"Male\")&(df2020[\"aggregation_name\"]==\"All Districts and Charters\")]\n",
    "# \n",
    "\n",
    "# df2021male=df2021[(df2021[\"membership_desc\"]==\"2015 Total Cohort - 6 Year Outcome\")&(df2021[\"subgroup_name\"]==\"Male\")&(df2021[\"aggregation_name\"]==\"All Districts and Charters\")]\n",
    "# print(df2021male[[\"enroll_cnt\",\"grad_cnt\",'subgroup_name','grad_pct']])\n",
    "\n",
    "# df2022male=df2022[(df2022[\"membership_desc\"]==\"2016 Total Cohort - 6 Year Outcome\")&(df2022[\"subgroup_name\"]==\"Male\")&(df2022[\"aggregation_name\"]==\"All Districts and Charters\")]\n",
    "# print(df2022male[[\"enroll_cnt\",\"grad_cnt\",'subgroup_name','grad_pct']])\n",
    "# df2020male\n"
   ]
  },
  {
   "cell_type": "code",
   "execution_count": 76,
   "metadata": {},
   "outputs": [
    {
     "name": "stdout",
     "output_type": "stream",
     "text": [
      "['113368', '106030', '101071', '98871', '95379', '93248', '91461', '91283']\n"
     ]
    },
    {
     "data": {
      "text/plain": [
       "[<matplotlib.lines.Line2D at 0x7fd6db9f0b80>]"
      ]
     },
     "execution_count": 76,
     "metadata": {},
     "output_type": "execute_result"
    },
    {
     "data": {
      "image/png": "[encoded data removed]",
      "text/plain": [
       "<Figure size 432x288 with 1 Axes>"
      ]
     },
     "metadata": {
      "needs_background": "light"
     },
     "output_type": "display_data"
    }
   ],
   "source": [
    "print(n_grad_cnt)\n",
    "plt.title(\"graduation count  by year\")\n",
    "plt.plot(years,[int(i) for i in grad_cnt])\n",
    "plt.plot(years,[int(i) for i in n_grad_cnt])\n"
   ]
  },
  {
   "cell_type": "code",
   "execution_count": 83,
   "metadata": {},
   "outputs": [
    {
     "data": {
      "text/plain": [
       "[<matplotlib.lines.Line2D at 0x7fd6ec100b20>]"
      ]
     },
     "execution_count": 83,
     "metadata": {},
     "output_type": "execute_result"
    },
    {
     "data": {
      "image/png": "[encoded data removed]",
      "text/plain": [
       "<Figure size 432x288 with 1 Axes>"
      ]
     },
     "metadata": {
      "needs_background": "light"
     },
     "output_type": "display_data"
    }
   ],
   "source": [
    "grad_pct_num=[]\n",
    "for grad in grad_pct:\n",
    "    grad_pct_num.append(int(grad.strip('%')))\n",
    "\n",
    "local_pct_num=[]\n",
    "for local in local_pct:\n",
    "    local_pct_num.append(int(local.strip('%')))\n",
    "\n",
    "n_grad_pct_num=[]\n",
    "for grad in n_grad_pct:\n",
    "    n_grad_pct_num.append(int(grad.strip('%')))\n",
    "\n",
    "n_local_pct_num=[]\n",
    "for local in n_local_pct:\n",
    "    n_local_pct_num.append(int(local.strip('%')))\n",
    "plt.title(\"graduation percent and local diploma percent\")\n",
    "plt.plot(years,grad_pct_num,linestyle='dashed')\n",
    "plt.plot(years,local_pct_num)\n",
    "plt.plot(years,n_grad_pct_num,linestyle='dashed')\n",
    "plt.plot(years,n_local_pct_num)"
   ]
  },
  {
   "cell_type": "code",
   "execution_count": 31,
   "metadata": {},
   "outputs": [
    {
     "name": "stdout",
     "output_type": "stream",
     "text": [
      "df2015 = df2015.reset_index()\n",
      "df2015.columns = df2015.columns.str.lower()\n",
      "df2016 = df2016.reset_index()\n",
      "df2016.columns = df2016.columns.str.lower()\n",
      "df2017 = df2017.reset_index()\n",
      "df2017.columns = df2017.columns.str.lower()\n",
      "df2018 = df2018.reset_index()\n",
      "df2018.columns = df2018.columns.str.lower()\n",
      "df2019 = df2019.reset_index()\n",
      "df2019.columns = df2019.columns.str.lower()\n"
     ]
    }
   ],
   "source": [
    "for i in range(2015,2020):\n",
    "   \n",
    "    # print( f\"df{i} = pd.read_csv('GRAD_RATE_AND_OUTCOMES_{i}.csv')\")\n",
    "\n",
    "    print(f\"df{i} = df{i}.reset_index()\")\n",
    "    print(f\"df{i}.columns = df{i}.columns.str.lower()\")"
   ]
  }
 ],
 "metadata": {
  "kernelspec": {
   "display_name": "base",
   "language": "python",
   "name": "python3"
  },
  "language_info": {
   "codemirror_mode": {
    "name": "ipython",
    "version": 3
   },
   "file_extension": ".py",
   "mimetype": "text/x-python",
   "name": "python",
   "nbconvert_exporter": "python",
   "pygments_lexer": "ipython3",
   "version": "3.9.12"
  },
  "orig_nbformat": 4
 },
 "nbformat": 4,
 "nbformat_minor": 2
}
